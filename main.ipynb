{
 "cells": [
  {
   "cell_type": "code",
   "execution_count": 1,
   "metadata": {},
   "outputs": [],
   "source": [
    "# Import libraries\n",
    "import numpy as np\n",
    "import matplotlib as mpl\n",
    "import matplotlib.pyplot as plt\n",
    "import matplotlib.gridspec as gridspec\n",
    "import matplotlib.patches as patches\n",
    "import pandas as pd\n",
    "import seaborn as sns\n",
    "from PIL import Image\n",
    "from io import BytesIO\n",
    "import requests\n",
    "import datetime as dt\n",
    "import pybaseball as pyb\n",
    "\n",
    "from constants import *\n",
    "from config import *\n",
    "from plotting import plot_headshot, plot_player_bio, plot_team_logo, plot_timeframe, plot_std_stats, plot_percentiles, make_batter_card\n",
    "from utils import get_headshot, get_player_bio, get_team_logo, get_timeframe, get_savant_color, get_filtered_game_logs\n",
    "from data_processing import calculate_xBA, calculate_xSLG, calculate_xwOBA, process_game_logs, is_barrel, is_sweet_spot"
   ]
  },
  {
   "cell_type": "code",
   "execution_count": 11,
   "metadata": {},
   "outputs": [],
   "source": [
    "# Arguments\n",
    "season = 2024\n",
    "game_type = 'R'\n",
    "start = SEASON_DATES[season]['REG_START']\n",
    "end = SEASON_DATES[season]['REG_END']\n",
    "id = pyb.playerid_lookup('LAST', 'FIRST')['key_mlbam'][0]"
   ]
  },
  {
   "cell_type": "code",
   "execution_count": null,
   "metadata": {},
   "outputs": [],
   "source": [
    "make_batter_card(player_id = id, start_date=start, end_date=end, \n",
    "                 game_type=game_type, season=season)"
   ]
  }
 ],
 "metadata": {
  "kernelspec": {
   "display_name": "venv",
   "language": "python",
   "name": "python3"
  },
  "language_info": {
   "codemirror_mode": {
    "name": "ipython",
    "version": 3
   },
   "file_extension": ".py",
   "mimetype": "text/x-python",
   "name": "python",
   "nbconvert_exporter": "python",
   "pygments_lexer": "ipython3",
   "version": "3.10.8"
  }
 },
 "nbformat": 4,
 "nbformat_minor": 2
}
